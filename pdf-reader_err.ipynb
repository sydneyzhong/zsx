{
 "cells": [
  {
   "cell_type": "code",
   "execution_count": 1,
   "metadata": {},
   "outputs": [
    {
     "name": "stdout",
     "output_type": "stream",
     "text": [
      "/home/zhongsx/.pyenv/versions/3.8.12/envs/aspose_pdf/bin/python\n",
      "/home/zhongsx/.pyenv/versions/3.8.12/envs/aspose_pdf/bin/jupyter\n",
      "/home/zhongsx/.pyenv/versions/3.8.12/envs/aspose_pdf/bin/pip\n",
      "Name: JPype1\n",
      "Version: 1.5.0\n",
      "Summary: A Python to Java bridge.\n",
      "Home-page: https://github.com/jpype-project/jpype\n",
      "Author: Steve Menard\n",
      "Author-email: devilwolf@users.sourceforge.net\n",
      "License: License :: OSI Approved :: Apache Software License\n",
      "Location: /home/zhongsx/.pyenv/versions/3.8.12/envs/aspose_pdf/lib/python3.8/site-packages\n",
      "Requires: packaging\n",
      "Required-by: \n",
      "/home/zhongsx/.pyenv/versions/3.8.12/envs/aspose_pdf/bin/python\n",
      "7.2.2\n",
      "Available kernels:\n",
      "  python3    /home/zhongsx/.pyenv/versions/3.8.12/envs/aspose_pdf/share/jupyter/kernels/python3\n"
     ]
    }
   ],
   "source": [
    "! which python\n",
    "! which jupyter\n",
    "! which pip\n",
    "! pip show JPype1\n",
    "import sys\n",
    "print(sys.executable)\n",
    "import notebook\n",
    "print(notebook.__version__)\n",
    "! jupyter kernelspec list"
   ]
  },
  {
   "cell_type": "code",
   "execution_count": 5,
   "metadata": {},
   "outputs": [
    {
     "name": "stdout",
     "output_type": "stream",
     "text": [
      "java version \"17.0.12\" 2024-07-16 LTS\n",
      "Java(TM) SE Runtime Environment (build 17.0.12+8-LTS-286)\n",
      "Java HotSpot(TM) 64-Bit Server VM (build 17.0.12+8-LTS-286, mixed mode, sharing)\n"
     ]
    }
   ],
   "source": [
    " ! java -version"
   ]
  },
  {
   "cell_type": "code",
   "execution_count": 4,
   "metadata": {},
   "outputs": [
    {
     "ename": "ModuleNotFoundError",
     "evalue": "No module named 'JPype1'",
     "output_type": "error",
     "traceback": [
      "\u001b[0;31m---------------------------------------------------------------------------\u001b[0m",
      "\u001b[0;31mModuleNotFoundError\u001b[0m                       Traceback (most recent call last)",
      "Cell \u001b[0;32mIn[4], line 1\u001b[0m\n\u001b[0;32m----> 1\u001b[0m \u001b[38;5;28;01mimport\u001b[39;00m \u001b[38;5;21;01mJPype1\u001b[39;00m\n\u001b[1;32m      2\u001b[0m \u001b[38;5;28mprint\u001b[39m(JPype1\u001b[38;5;241m.\u001b[39m__version__)\n",
      "\u001b[0;31mModuleNotFoundError\u001b[0m: No module named 'JPype1'"
     ]
    }
   ],
   "source": [
    "import JPype1\n",
    "print(JPype1.__version__)"
   ]
  },
  {
   "cell_type": "code",
   "execution_count": 2,
   "metadata": {},
   "outputs": [
    {
     "name": "stdout",
     "output_type": "stream",
     "text": [
      "Name: PyMuPDF\n",
      "Version: 1.24.11\n",
      "Summary: A high performance Python library for data extraction, analysis, conversion & manipulation of PDF (and other) documents.\n",
      "Home-page: None\n",
      "Author: Artifex\n",
      "Author-email: support@artifex.com\n",
      "License: GNU AFFERO GPL 3.0\n",
      "Location: /home/zhongsx/.pyenv/versions/3.8.12/envs/aspose_pdf/lib/python3.8/site-packages\n",
      "Requires: \n",
      "Required-by: \n"
     ]
    }
   ],
   "source": [
    "! pip show PyMuPDF"
   ]
  },
  {
   "cell_type": "code",
   "execution_count": 3,
   "metadata": {},
   "outputs": [],
   "source": [
    "import fitz  # PyMuPDF"
   ]
  }
 ],
 "metadata": {
  "kernelspec": {
   "display_name": "aspose_pdf",
   "language": "python",
   "name": "python3"
  },
  "language_info": {
   "codemirror_mode": {
    "name": "ipython",
    "version": 3
   },
   "file_extension": ".py",
   "mimetype": "text/x-python",
   "name": "python",
   "nbconvert_exporter": "python",
   "pygments_lexer": "ipython3",
   "version": "3.8.12"
  }
 },
 "nbformat": 4,
 "nbformat_minor": 2
}
